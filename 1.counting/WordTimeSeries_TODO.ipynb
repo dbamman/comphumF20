{
 "cells": [
  {
   "cell_type": "code",
   "execution_count": 1,
   "metadata": {},
   "outputs": [],
   "source": [
    "import nltk\n",
    "import pandas as pd\n",
    "import matplotlib\n",
    "from collections import Counter"
   ]
  },
  {
   "cell_type": "code",
   "execution_count": 2,
   "metadata": {},
   "outputs": [],
   "source": [
    "def read_metadata(filename):\n",
    "    \n",
    "    \"\"\" Read movie metadata and return dictionary mapping movie ID to year of release \"\"\"\n",
    "    years={}\n",
    "    with open(filename) as file:\n",
    "        file.readline()\n",
    "        for line in file:\n",
    "            cols=line.rstrip().split(\"\\t\")\n",
    "            movieID=cols[0]\n",
    "            year=int(cols[3])\n",
    "            years[movieID]=year\n",
    "    return years"
   ]
  },
  {
   "cell_type": "code",
   "execution_count": 3,
   "metadata": {},
   "outputs": [],
   "source": [
    "years=read_metadata(\"../data/movie.metadata.tsv\")"
   ]
  },
  {
   "cell_type": "code",
   "execution_count": 4,
   "metadata": {},
   "outputs": [],
   "source": [
    "def read_data(filename, years):\n",
    "    \n",
    "    \"\"\" Input: path to movie summaries and dictionary mapping movie IDs to year of release\n",
    "        Output: list of tokenized movie reviews, with each element being a (year, [tokens]) tuple\n",
    "    \n",
    "    \"\"\"\n",
    "    \n",
    "    data=[]\n",
    "    with open(filename) as file:\n",
    "        for line in file:\n",
    "            cols=line.rstrip().split(\"\\t\")\n",
    "            movieID=cols[0]\n",
    "            if movieID in years:\n",
    "                # lowercase description\n",
    "                description=cols[1].lower()\n",
    "                \n",
    "                # tokenize\n",
    "                tokens=nltk.word_tokenize(description)\n",
    "                \n",
    "                # only count each word once per document\n",
    "                unique_tokens=set(tokens)\n",
    "                \n",
    "                data.append((movieID, years[movieID], unique_tokens))\n",
    "                \n",
    "    return data               "
   ]
  },
  {
   "cell_type": "code",
   "execution_count": 5,
   "metadata": {},
   "outputs": [],
   "source": [
    "data=read_data(\"../data/plot_summaries.txt\", years)"
   ]
  },
  {
   "cell_type": "code",
   "execution_count": 6,
   "metadata": {},
   "outputs": [],
   "source": [
    "def create_index(data):\n",
    "    \n",
    "    \"\"\" Create an inverted index from a word to the list of movies that contain it\n",
    "    \n",
    "        Output: \n",
    "            - index dict: {\"love\": {'31186339': 2012, '20663735': 2000, ... }, ... }\n",
    "            - totals Counter, the number of movies released each year\n",
    "    \"\"\"\n",
    "    \n",
    "    index={}\n",
    "    total_movies_by_year=Counter()\n",
    "    words_to_docs={}\n",
    "    for (movieID, date, tokens) in data:\n",
    "        total_movies_by_year[date]+=1\n",
    "        for word in tokens:\n",
    "            if word not in index:\n",
    "                index[word]={}\n",
    "            index[word][movieID]=date\n",
    "            \n",
    "    return index, total_movies_by_year"
   ]
  },
  {
   "cell_type": "code",
   "execution_count": 7,
   "metadata": {},
   "outputs": [],
   "source": [
    "index, total_movies_by_year=create_index(data)"
   ]
  },
  {
   "cell_type": "code",
   "execution_count": 8,
   "metadata": {},
   "outputs": [],
   "source": [
    "def plot_time(index, query, totals):\n",
    "    \n",
    "    \"\"\" Plot time series of the fraction of movies that use a query term in a given year \"\"\"\n",
    "    \n",
    "    counts=Counter()\n",
    "    for movie in index[query]:\n",
    "        year=index[query][movie]\n",
    "        counts[year]+=1\n",
    "    \n",
    "    data=[]\n",
    "    \n",
    "    for year in counts:\n",
    "        data.append((year, float(counts[year])/totals[year]))\n",
    "            \n",
    "    df=pd.DataFrame(data, columns=['date','movie frequency'])\n",
    "    df.plot(x=\"date\", y=\"movie frequency\", kind = 'scatter', xlim=(1920,2013))"
   ]
  },
  {
   "cell_type": "code",
   "execution_count": 24,
   "metadata": {
    "scrolled": true
   },
   "outputs": [
    {
     "data": {
      "image/png": "[encoded data removed]",
      "text/plain": [
       "<Figure size 432x288 with 1 Axes>"
      ]
     },
     "metadata": {
      "needs_background": "light"
     },
     "output_type": "display_data"
    }
   ],
   "source": [
    "query=\"kill\"\n",
    "plot_time(index, query, total_movies_by_year)"
   ]
  },
  {
   "cell_type": "code",
   "execution_count": 25,
   "metadata": {},
   "outputs": [],
   "source": [
    "def plot_time_dictionary(index, totals, dictionary):\n",
    "\n",
    "    \"\"\" Plot time series of the fraction of movies that use a term in a dictionary in a given year \"\"\"\n",
    "\n",
    "    # fill in here -- you want to end up with a data list like in plot_time above\n",
    "\n",
    "    df=pd.DataFrame(data, columns=['date','document frequency'])\n",
    "    df.plot(x=\"date\", y=\"document frequency\", kind = 'scatter', xlim=(1920,2013))       \n"
   ]
  },
  {
   "cell_type": "code",
   "execution_count": null,
   "metadata": {},
   "outputs": [],
   "source": [
    "dictionary={\"love\", \"romance\", \"date\"}\n",
    "plot_time_dictionary(index, total_movies_by_year, dictionary)"
   ]
  },
  {
   "cell_type": "code",
   "execution_count": null,
   "metadata": {},
   "outputs": [],
   "source": []
  }
 ],
 "metadata": {
  "kernelspec": {
   "display_name": "Python 3",
   "language": "python",
   "name": "python3"
  },
  "language_info": {
   "codemirror_mode": {
    "name": "ipython",
    "version": 3
   },
   "file_extension": ".py",
   "mimetype": "text/x-python",
   "name": "python",
   "nbconvert_exporter": "python",
   "pygments_lexer": "ipython3",
   "version": "3.8.5"
  }
 },
 "nbformat": 4,
 "nbformat_minor": 2
}
