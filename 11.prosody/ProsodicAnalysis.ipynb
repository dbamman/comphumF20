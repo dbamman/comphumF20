{
 "cells": [
  {
   "cell_type": "markdown",
   "metadata": {},
   "source": [
    "In this notebook, we'll explore using word pronuncation dictionaries and predictive models to represent both poetic meter and rhyme."
   ]
  },
  {
   "cell_type": "code",
   "execution_count": null,
   "metadata": {},
   "outputs": [],
   "source": [
    "!pip install textdistance"
   ]
  },
  {
   "cell_type": "code",
   "execution_count": null,
   "metadata": {},
   "outputs": [],
   "source": [
    "!pip install g2p_en"
   ]
  },
  {
   "cell_type": "code",
   "execution_count": null,
   "metadata": {},
   "outputs": [],
   "source": [
    "import sys\n",
    "import nltk\n",
    "import string\n",
    "import textdistance\n",
    "import re\n",
    "from g2p_en import G2p\n",
    "import numpy as np"
   ]
  },
  {
   "cell_type": "markdown",
   "metadata": {},
   "source": [
    "1. The CMU pronunciation dictionary lists words along with their pronunciation (using the ARPABET -- see [here](https://en.wikipedia.org/wiki/ARPABET) for a mapping between ARPABET and IPA, with example words).  Query this resource for the pronunciation of specific words."
   ]
  },
  {
   "cell_type": "code",
   "execution_count": null,
   "metadata": {},
   "outputs": [],
   "source": [
    "arpabet = nltk.corpus.cmudict.dict()"
   ]
  },
  {
   "cell_type": "code",
   "execution_count": null,
   "metadata": {},
   "outputs": [],
   "source": [
    "word=\"foil\"\n",
    "arpabet[word]"
   ]
  },
  {
   "cell_type": "markdown",
   "metadata": {},
   "source": [
    "2. The CMU dictionary doesn't have pronunciations for all words, but there are several systems that have been trained to generate pronunciations, including [g2p](https://github.com/Kyubyong/g2p).  Find some words that don't exist in the CMU dictionary and generate pronunciations for them through g2p.  How accurate is it?"
   ]
  },
  {
   "cell_type": "code",
   "execution_count": null,
   "metadata": {},
   "outputs": [],
   "source": [
    "g2p = G2p()"
   ]
  },
  {
   "cell_type": "code",
   "execution_count": null,
   "metadata": {},
   "outputs": [],
   "source": [
    "word=\"chatbot\"\n",
    "g2p(word)"
   ]
  },
  {
   "cell_type": "markdown",
   "metadata": {},
   "source": [
    "3. Now let's use this pronunciation information (along with the word *stress* information it includes) to build a simple system for metrical analysis, where we'll estimate whether a given piece of text is more predomantly iambic (da DUM da DUM), trochaic (DUM da DUM da), spondaic (DUM DUM DUM DUM) or dactylic (DUM da da DUM da da)."
   ]
  },
  {
   "cell_type": "code",
   "execution_count": null,
   "metadata": {},
   "outputs": [],
   "source": [
    "def get_pronunciation(word):\n",
    "    if word in arpabet:\n",
    "        # pick the first pronunciation\n",
    "        return arpabet[word][0]\n",
    "\n",
    "    else:\n",
    "        return g2p(word)"
   ]
  },
  {
   "cell_type": "code",
   "execution_count": null,
   "metadata": {},
   "outputs": [],
   "source": [
    "def get_stress(pron):\n",
    "    stress=[]\n",
    "    for sym in pron:\n",
    "        final=sym[-1]\n",
    "        try:\n",
    "            sym_stress=\"1\" if int(final) > 0 else \"0\"\n",
    "            stress.append(sym_stress)\n",
    "        except:\n",
    "            pass\n",
    "    return stress"
   ]
  },
  {
   "cell_type": "code",
   "execution_count": null,
   "metadata": {},
   "outputs": [],
   "source": [
    "def get_metrical_feet(num_syllables):\n",
    "    \n",
    "    \"\"\"\n",
    "    For a given number of syllables, let's get an ideal line in each of the metrical feet we're examining.\n",
    "    e.g. for a line with syllables, we'd expect the following:\n",
    "    \n",
    "    iamb:    010101010\n",
    "    trochee: 101010101\n",
    "    spondee: 111111111\n",
    "    dactyl:  100100100\n",
    "    \n",
    "    \"\"\"\n",
    "    iamb=\"01\"*(int(num_syllables/2)+1)\n",
    "    trochee=\"10\"*(int(num_syllables/2)+1)\n",
    "    spondee=\"11\"*(int(num_syllables/2)+1)\n",
    "    dactyl=\"100\"*(int(num_syllables/3)+1)\n",
    "\n",
    "    return list(iamb)[:num_syllables], list(trochee)[:num_syllables], list(spondee)[:num_syllables], list(dactyl)[:num_syllables]\n"
   ]
  },
  {
   "cell_type": "code",
   "execution_count": null,
   "metadata": {},
   "outputs": [],
   "source": [
    "def proc(text):\n",
    "    \n",
    "    \"\"\"\n",
    "    \n",
    "    Now we'll compare the stress of a given piece of text to each of the idealized metrical lines; the best fit\n",
    "    will be the one with the smallest distance (here we'll use the Levenshtein distance).\n",
    "    \n",
    "    Since both pronunciation methods often treat words with one syllable as stressed, we'll mainly use evidence\n",
    "    from multi-syllabic words.\n",
    "    \n",
    "    \"\"\"\n",
    "    text_tokens=nltk.word_tokenize(text.lower())\n",
    "    iamb, trochee, spondee, dactyl=get_metrical_feet(len(text_tokens))\n",
    "    stress=[]\n",
    "    \n",
    "    for word in text_tokens:\n",
    "        if not word in string.punctuation:\n",
    "            pron=get_pronunciation(word)\n",
    "            \n",
    "            word_stress=get_stress(pron)\n",
    "\n",
    "            if len(word_stress) == 1:\n",
    "                stress.extend(\"-\")\n",
    "            else:\n",
    "                stress.extend(word_stress)\n",
    "                    \n",
    "\n",
    "    print(''.join(stress))\n",
    "    \n",
    "    iamb_dist=textdistance.levenshtein(iamb, stress)\n",
    "    trochee_dist=textdistance.levenshtein(trochee, stress)\n",
    "    spondee_dist=textdistance.levenshtein(spondee, stress)\n",
    "    dactyl_dist=textdistance.levenshtein(dactyl, stress)\n",
    "    \n",
    "    return iamb_dist, trochee_dist, spondee_dist, dactyl_dist"
   ]
  },
  {
   "cell_type": "code",
   "execution_count": null,
   "metadata": {},
   "outputs": [],
   "source": [
    "def line_by_line_meter(text):\n",
    "    labels=[\"iamb\", \"trochee\", \"spondee\", \"dactyl\"]\n",
    "    scores=np.zeros(4)\n",
    "    for line in text.split(\"\\n\"):\n",
    "        scores+=np.array(proc(line))\n",
    "\n",
    "    print (labels)\n",
    "    print(scores)\n",
    "    print(\"Best guess: %s\" % labels[np.argmin(scores)])\n"
   ]
  },
  {
   "cell_type": "code",
   "execution_count": null,
   "metadata": {},
   "outputs": [],
   "source": [
    "def meter(text):\n",
    "    labels=[\"iamb\", \"trochee\", \"spondee\", \"dactyl\"]\n",
    "    for line in text.split(\"\\n\"):\n",
    "        scores=np.array(proc(line))\n",
    "\n",
    "    print (labels)\n",
    "    print(scores)\n",
    "    print(\"Best guess: %s\" % labels[np.argmin(scores)])\n",
    "\n"
   ]
  },
  {
   "cell_type": "code",
   "execution_count": null,
   "metadata": {
    "scrolled": true
   },
   "outputs": [],
   "source": [
    "text=\"\"\"Shall I compare thee to a summers day?\n",
    "Thou art more lovely and more temperate:\n",
    "Rough winds do shake the darling buds of May,\n",
    "And summers lease hath all too short a date;\n",
    "Sometime too hot the eye of heaven shines,\n",
    "And often is his gold complexion dimmd;\n",
    "And every fair from fair sometime declines,\n",
    "By chance or nature’s changing course untrimmd;\n",
    "But thy eternal summer shall not fade,\n",
    "Nor lose possession of that fair thou owst;\n",
    "Nor shall death brag thou wanderst in his shade,\n",
    "When in eternal lines to time thou growst:\n",
    "   So long as men can breathe or eyes can see,\n",
    "   So long lives this, and this gives life to thee.\"\"\"\n",
    "\n",
    "line_by_line_meter(text)"
   ]
  },
  {
   "cell_type": "code",
   "execution_count": null,
   "metadata": {},
   "outputs": [],
   "source": [
    "text=\"\"\"The only news I know\n",
    "Is bulletins all day\n",
    "From Immortality.\n",
    "The only shows I see,\n",
    "Tomorrow and Today,\n",
    "Perchance Eternity.\"\"\"\n",
    "\n",
    "line_by_line_meter(text)"
   ]
  },
  {
   "cell_type": "markdown",
   "metadata": {},
   "source": [
    "Now can we use this to get a sense of the metrical qualities of prose texts?"
   ]
  },
  {
   "cell_type": "code",
   "execution_count": null,
   "metadata": {},
   "outputs": [],
   "source": [
    "text=\"\"\" When in the Course of human events, it becomes necessary for one people to dissolve the political bands which have connected them with another, and to assume among the powers of the earth, the separate and equal station to which the Laws of Nature and of Nature's God entitle them, a decent respect to the opinions of mankind requires that they should declare the causes which impel them to the separation.\"\"\"\n",
    "meter(text)"
   ]
  },
  {
   "cell_type": "markdown",
   "metadata": {},
   "source": [
    "4. Here are the pronunciation for two terms -- can you write a function that determines whether they rhyme and use that function to determine the rhyme scheme for the following lyrics?"
   ]
  },
  {
   "cell_type": "code",
   "execution_count": null,
   "metadata": {},
   "outputs": [],
   "source": [
    "get_pronunciation(\"cycle\")"
   ]
  },
  {
   "cell_type": "code",
   "execution_count": null,
   "metadata": {},
   "outputs": [],
   "source": [
    "get_pronunciation(\"michael\")"
   ]
  },
  {
   "cell_type": "code",
   "execution_count": null,
   "metadata": {},
   "outputs": [],
   "source": [
    "tribe_excursions=\"\"\"Back in the days when I was a teenager\n",
    "Before I had status and before I had a pager\n",
    "You could find the Abstract listening to hip hop\n",
    "My pops used to say, it reminded him of be-bop\n",
    "I said, well daddy don't you know that things go in cycles\n",
    "The way that Bobby Brown is just ampin' like Michael\"\"\""
   ]
  },
  {
   "cell_type": "code",
   "execution_count": null,
   "metadata": {},
   "outputs": [],
   "source": []
  }
 ],
 "metadata": {
  "kernelspec": {
   "display_name": "Python 3",
   "language": "python",
   "name": "python3"
  },
  "language_info": {
   "codemirror_mode": {
    "name": "ipython",
    "version": 3
   },
   "file_extension": ".py",
   "mimetype": "text/x-python",
   "name": "python",
   "nbconvert_exporter": "python",
   "pygments_lexer": "ipython3",
   "version": "3.8.5"
  }
 },
 "nbformat": 4,
 "nbformat_minor": 4
}
