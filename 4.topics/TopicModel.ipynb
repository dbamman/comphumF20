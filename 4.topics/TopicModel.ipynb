{
 "cells": [
  {
   "cell_type": "markdown",
   "metadata": {},
   "source": [
    "In this notebook we'll explore topic modeling to discover broad themes in a collection of movie summaries.  To get started, install gensim:"
   ]
  },
  {
   "cell_type": "code",
   "execution_count": null,
   "metadata": {},
   "outputs": [],
   "source": [
    "!pip install gensim==3.8.3"
   ]
  },
  {
   "cell_type": "code",
   "execution_count": 1,
   "metadata": {},
   "outputs": [
    {
     "name": "stderr",
     "output_type": "stream",
     "text": [
      "[nltk_data] Downloading package stopwords to\n",
      "[nltk_data]     /Users/dbamman/nltk_data...\n",
      "[nltk_data]   Package stopwords is already up-to-date!\n"
     ]
    }
   ],
   "source": [
    "import nltk\n",
    "import re\n",
    "import gensim\n",
    "from gensim import corpora\n",
    "import operator\n",
    "\n",
    "nltk.download('stopwords')\n",
    "from nltk.corpus import stopwords\n",
    "\n",
    "import numpy as np\n",
    "import random\n",
    "\n",
    "random.seed(1)"
   ]
  },
  {
   "cell_type": "code",
   "execution_count": 2,
   "metadata": {},
   "outputs": [],
   "source": [
    "def read_stopwords(filename):\n",
    "    stopwords={}\n",
    "    with open(filename) as file:\n",
    "        for line in file:\n",
    "            stopwords[line.rstrip()]=1\n",
    "    return stopwords"
   ]
  },
  {
   "cell_type": "markdown",
   "metadata": {},
   "source": [
    "Since we're running topic modeling on texts with lots of names, we'll add the Jockers list of stopwords (which includes character names) to our stoplist."
   ]
  },
  {
   "cell_type": "code",
   "execution_count": 3,
   "metadata": {},
   "outputs": [],
   "source": [
    "stop_words = {k:1 for k in stopwords.words('english')}\n",
    "stop_words.update(read_stopwords(\"../data/jockers.stopwords\"))\n",
    "stop_words[\"'s\"]=1\n",
    "stop_words=list(stop_words.keys())"
   ]
  },
  {
   "cell_type": "code",
   "execution_count": 4,
   "metadata": {},
   "outputs": [],
   "source": [
    "def filter(word, stopwords):\n",
    "    \n",
    "    \"\"\" Function to exclude words from a text \"\"\"\n",
    "    \n",
    "    # no stopwords\n",
    "    if word in stopwords:\n",
    "        return False\n",
    "    \n",
    "    # has to contain at least one letter\n",
    "    if re.search(\"[A-Za-z]\", word) is not None:\n",
    "        return True\n",
    "    \n",
    "    return False"
   ]
  },
  {
   "cell_type": "code",
   "execution_count": 5,
   "metadata": {},
   "outputs": [],
   "source": [
    "def read_docs(plotFile, metadataFile, stopwords):\n",
    "    \n",
    "    names={}\n",
    "    box={}\n",
    "    \n",
    "    with open(metadataFile, encoding=\"utf-8\") as file:\n",
    "        for line in file:\n",
    "            cols=line.rstrip().split(\"\\t\")\n",
    "            idd=cols[0]\n",
    "            name=cols[2]\n",
    "            boxoffice=cols[4]\n",
    "            if len(boxoffice) != 0:\n",
    "                box[idd]=int(boxoffice)\n",
    "                names[idd]=name\n",
    "    \n",
    "    n=5000\n",
    "    target_movies={}\n",
    "\n",
    "\n",
    "    sorted_box = sorted(box.items(), key=operator.itemgetter(1), reverse=True)\n",
    "    for k, v in sorted_box[:n]:\n",
    "        target_movies[k]=names[k]\n",
    "    \n",
    "    docs=[]\n",
    "    names=[]\n",
    "   \n",
    "    with open(plotFile, encoding=\"utf-8\") as file:\n",
    "        for line in file:\n",
    "            cols=line.rstrip().split(\"\\t\")\n",
    "            idd=cols[0]\n",
    "            text=cols[1]\n",
    "            \n",
    "            if idd in target_movies:\n",
    "                tokens=nltk.word_tokenize(text.lower())\n",
    "                tokens=[x for x in tokens if filter(x, stopwords)]\n",
    "                docs.append(tokens)\n",
    "                name=target_movies[idd]\n",
    "                names.append(name)\n",
    "    return docs, names"
   ]
  },
  {
   "cell_type": "markdown",
   "metadata": {},
   "source": [
    "We'll read in summaries of the 5,000 movies with the highest box office revenues."
   ]
  },
  {
   "cell_type": "code",
   "execution_count": 6,
   "metadata": {},
   "outputs": [],
   "source": [
    "metadataFile=\"../data/movie.metadata.tsv\"\n",
    "plotFile=\"../data/plot_summaries.txt\"\n",
    "data, doc_names=read_docs(plotFile, metadataFile, stop_words)"
   ]
  },
  {
   "cell_type": "markdown",
   "metadata": {},
   "source": [
    "We will convert the movie summaries into a bag-of-words representation using gensim's [corpora.dictionary](https://radimrehurek.com/gensim/corpora/dictionary.html) methods."
   ]
  },
  {
   "cell_type": "code",
   "execution_count": 7,
   "metadata": {},
   "outputs": [],
   "source": [
    "# Create vocab from data; restrict vocab to only the top 10K terms that show up in at least 5 documents \n",
    "# and no more than 50% of all documents\n",
    "\n",
    "dictionary = corpora.Dictionary(data)\n",
    "dictionary.filter_extremes(no_below=5, no_above=.5, keep_n=10000)"
   ]
  },
  {
   "cell_type": "code",
   "execution_count": 8,
   "metadata": {},
   "outputs": [],
   "source": [
    "# Replace dataset with numeric ids words in vocab (and exclude all other words)\n",
    "corpus = [dictionary.doc2bow(text) for text in data]"
   ]
  },
  {
   "cell_type": "code",
   "execution_count": 9,
   "metadata": {},
   "outputs": [],
   "source": [
    "num_topics=20"
   ]
  },
  {
   "cell_type": "markdown",
   "metadata": {},
   "source": [
    "Now let's run a topic model on this data using gensim's built-in LDA."
   ]
  },
  {
   "cell_type": "code",
   "execution_count": 12,
   "metadata": {},
   "outputs": [],
   "source": [
    "lda_model = gensim.models.ldamodel.LdaModel(corpus=corpus,\n",
    "                                           id2word=dictionary,\n",
    "                                           num_topics=num_topics, \n",
    "                                           passes=10,\n",
    "                                           alpha='auto')"
   ]
  },
  {
   "cell_type": "markdown",
   "metadata": {},
   "source": [
    "We can get a sense of what the topics are by printing the top 10 words with highest $P(word \\mid topic)$ for each topic"
   ]
  },
  {
   "cell_type": "code",
   "execution_count": 13,
   "metadata": {
    "scrolled": true
   },
   "outputs": [
    {
     "name": "stdout",
     "output_type": "stream",
     "text": [
      "topic 0:\tpresident white turner states sullivan united campaign black washington campbell\n",
      "topic 1:\tkiller gang smith police murder detective cat case bishop mouse\n",
      "topic 2:\ttown find killed dracula kill vampire infected train group brothers\n",
      "topic 3:\tschool high students student teacher class friends college kid camp\n",
      "topic 4:\tfather family life mother time years tells wife daughter film\n",
      "topic 5:\twar army soldiers doc men japanese general battle colonel american\n",
      "topic 6:\tdr. band evil satan ghost spirit hospital body film child\n",
      "topic 7:\tfilm life relationship hotel company time women job kane end\n",
      "topic 8:\tshow film money race job fight big win time club\n",
      "topic 9:\tbook case murder judge tells office story evidence court trial\n",
      "topic 10:\tkill escape killed men kills death killing team police dead\n",
      "topic 11:\tteam game coach play football brown player players win playing\n",
      "topic 12:\tbond jaguar agent flynn bolt frost nash formula knox diamonds\n",
      "topic 13:\thouse tells night goes finds day father mother find n't\n",
      "topic 14:\tnorth korean easy zeus south korea painting finch dodge bird\n",
      "topic 15:\tshaw pirates crew silver captain ship treasure pirate island khan\n",
      "topic 16:\tship earth alien crew planet human space robot boat find\n",
      "topic 17:\tfind castle fight kill battle escape animals return city help\n",
      "topic 18:\tpolice car money tells gun house find wife away kill\n",
      "topic 19:\tplane mission air flight bomb helicopter nuclear base united team\n"
     ]
    }
   ],
   "source": [
    "for i in range(num_topics):\n",
    "    print(\"topic %s:\\t%s\" % (i, ' '.join([term for term, freq in lda_model.show_topic(i, topn=10)])))"
   ]
  },
  {
   "cell_type": "markdown",
   "metadata": {},
   "source": [
    "Another way of understanding topics is to print out the documents that have the highest topic representation -- i.e., for a given topic $k$, the documents with highest $P(topic=k | document)$.  How much do the documents listed here align with your understanding of the topics?"
   ]
  },
  {
   "cell_type": "code",
   "execution_count": 14,
   "metadata": {},
   "outputs": [
    {
     "name": "stdout",
     "output_type": "stream",
     "text": [
      "president white turner states sullivan united campaign black washington campbell\n",
      "\n",
      "0\t0.927\tMade in Dagenham\n",
      "0\t0.589\tSwing Vote\n",
      "0\t0.583\tMurder in the First\n",
      "0\t0.534\tInvictus\n",
      "0\t0.522\tMother\n",
      "\n",
      "killer gang smith police murder detective cat case bishop mouse\n",
      "\n",
      "1\t0.897\tBad Girls\n",
      "1\t0.889\tFreebie and The Bean\n",
      "1\t0.718\tGang Related\n",
      "1\t0.646\tThe Unjust\n",
      "1\t0.623\tThe Hard Way\n",
      "\n",
      "town find killed dracula kill vampire infected train group brothers\n",
      "\n",
      "2\t0.763\tDracula 2000\n",
      "2\t0.746\tVan Helsing\n",
      "2\t0.731\tReturn of the Living Dead Part II\n",
      "2\t0.696\tBats\n",
      "2\t0.621\tREC 3\n",
      "\n",
      "school high students student teacher class friends college kid camp\n",
      "\n",
      "3\t0.939\tMy Boss, My Teacher\n",
      "3\t0.927\tConduct Zero\n",
      "3\t0.883\tGoodbye, Columbus\n",
      "3\t0.740\tFired Up\n",
      "3\t0.697\tAssassination of a High School President\n",
      "\n",
      "father family life mother time years tells wife daughter film\n",
      "\n",
      "4\t0.970\tImmortal Beloved\n",
      "4\t0.969\tOn Golden Pond\n",
      "4\t0.969\tBeginners\n",
      "4\t0.968\tThe Other Boleyn Girl\n",
      "4\t0.967\tThe Duchess\n",
      "\n",
      "war army soldiers doc men japanese general battle colonel american\n",
      "\n",
      "5\t0.801\tCristiada\n",
      "5\t0.762\tThe Big Red One\n",
      "5\t0.737\tThe Thin Red Line\n",
      "5\t0.703\tWe Were Soldiers\n",
      "5\t0.693\tThe Founding of a Republic\n",
      "\n",
      "dr. band evil satan ghost spirit hospital body film child\n",
      "\n",
      "6\t0.882\tThe Country Bears\n",
      "6\t0.878\tWhat the #$*! Do We Know!?\n",
      "6\t0.803\tLost Souls\n",
      "6\t0.718\tThe Believers\n",
      "6\t0.694\tSpellbound\n",
      "\n",
      "film life relationship hotel company time women job kane end\n",
      "\n",
      "7\t0.950\tAnywhere But Here\n",
      "7\t0.909\tThe Guru\n",
      "7\t0.857\tBig\n",
      "7\t0.801\tThe Goodbye Girl\n",
      "7\t0.801\tMapado 2: Back to the Island\n",
      "\n",
      "show film money race job fight big win time club\n",
      "\n",
      "8\t0.943\tFresh\n",
      "8\t0.926\tThe Wog Boy\n",
      "8\t0.924\tBilly Bathgate\n",
      "8\t0.918\tThe Seat Filler\n",
      "8\t0.866\tTomboy\n",
      "\n",
      "book case murder judge tells office story evidence court trial\n",
      "\n",
      "9\t0.757\tSeven Days\n",
      "9\t0.756\tOnce in a Blue Moon\n",
      "9\t0.747\tOne Night at McCool's\n",
      "9\t0.658\tV.I. Warshawski\n",
      "9\t0.644\tSneakers\n",
      "\n",
      "kill escape killed men kills death killing team police dead\n",
      "\n",
      "10\t0.890\tBallistic: Ecks vs. Sever\n",
      "10\t0.838\tPredator 2\n",
      "10\t0.801\tIron Man\n",
      "10\t0.800\tThe Recruit\n",
      "10\t0.763\tThe Amateur\n",
      "\n",
      "team game coach play football brown player players win playing\n",
      "\n",
      "11\t0.978\tBad News Bears\n",
      "11\t0.757\tGridiron Gang\n",
      "11\t0.722\tVarsity Blues\n",
      "11\t0.623\tHoosiers\n",
      "11\t0.619\tForever the Moment\n",
      "\n",
      "bond jaguar agent flynn bolt frost nash formula knox diamonds\n",
      "\n",
      "12\t0.867\tNever Say Never Again\n",
      "12\t0.771\tChildren\n",
      "12\t0.769\tSuperBabies: Baby Geniuses 2\n",
      "12\t0.487\tFrom Russia with Love\n",
      "12\t0.461\tQuantum of Solace\n",
      "\n",
      "house tells night goes finds day father mother find n't\n",
      "\n",
      "13\t0.985\tFat Albert\n",
      "13\t0.979\tBarney's Great Adventure\n",
      "13\t0.936\tParanormal Activity 4\n",
      "13\t0.936\tThe Cat in the Hat\n",
      "13\t0.924\tWillard\n",
      "\n",
      "north korean easy zeus south korea painting finch dodge bird\n",
      "\n",
      "14\t0.368\tHow to Eat Fried Worms\n",
      "14\t0.292\tPainted Fire\n",
      "14\t0.281\tAs One\n",
      "14\t0.259\tNight Shift\n",
      "14\t0.254\tInto the Fire\n",
      "\n",
      "shaw pirates crew silver captain ship treasure pirate island khan\n",
      "\n",
      "15\t0.698\tAlmejas y Mejillones\n",
      "15\t0.398\tSwiss Family Robinson\n",
      "15\t0.391\tMuppet Treasure Island\n",
      "15\t0.385\tThe Pirates! Band of Misfits\n",
      "15\t0.285\tTex\n",
      "\n",
      "ship earth alien crew planet human space robot boat find\n",
      "\n",
      "16\t0.977\tAlien: Resurrection\n",
      "16\t0.904\tSupernova\n",
      "16\t0.886\tStar Trek: The Motion Picture\n",
      "16\t0.796\tPrometheus\n",
      "16\t0.784\tStar Trek: Generations\n",
      "\n",
      "find castle fight kill battle escape animals return city help\n",
      "\n",
      "17\t0.914\tThe Dark Crystal\n",
      "17\t0.899\tThe Lord of the Rings: The Two Towers\n",
      "17\t0.884\tThe Lord of the Rings: The Return of the King\n",
      "17\t0.860\tDeathstalker\n",
      "17\t0.824\tConan the Barbarian\n",
      "\n",
      "police car money tells gun house find wife away kill\n",
      "\n",
      "18\t0.991\tSet It Off\n",
      "18\t0.970\tDrive\n",
      "18\t0.963\tMenace II Society\n",
      "18\t0.956\tA Perfect Murder\n",
      "18\t0.941\tKnockaround Guys\n",
      "\n",
      "plane mission air flight bomb helicopter nuclear base united team\n",
      "\n",
      "19\t0.990\tFirefox\n",
      "19\t0.900\tSpies Like Us\n",
      "19\t0.811\tSource Code\n",
      "19\t0.734\tThe Final Countdown\n",
      "19\t0.730\tThe Right Stuff\n",
      "\n"
     ]
    }
   ],
   "source": [
    "topic_model=lda_model \n",
    "\n",
    "topic_docs=[]\n",
    "for i in range(num_topics):\n",
    "    topic_docs.append({})\n",
    "for doc_id in range(len(corpus)):\n",
    "    doc_topics=topic_model.get_document_topics(corpus[doc_id])\n",
    "    for topic_num, topic_prob in doc_topics:\n",
    "        topic_docs[topic_num][doc_id]=topic_prob\n",
    "\n",
    "for i in range(num_topics):\n",
    "    print(\"%s\\n\" % ' '.join([term for term, freq in topic_model.show_topic(i, topn=10)]))\n",
    "    sorted_x = sorted(topic_docs[i].items(), key=operator.itemgetter(1), reverse=True)\n",
    "    for k, v in sorted_x[:5]:\n",
    "        print(\"%s\\t%.3f\\t%s\" % (i,v,doc_names[k]))\n",
    "    print()\n",
    "    \n",
    "    "
   ]
  },
  {
   "cell_type": "markdown",
   "metadata": {},
   "source": [
    "**Optional**: Mallet is topic modeling software that tends to generate better topics than gensim's native implementation (in part due to different inference techniques).  Gensim is compatible with mallet; to get it working, download [Mallet](http://mallet.cs.umass.edu/download.php) and set the path below to the `mallet` application on your computer.  (In the example below, I've downloaded mallet to my `Downloads` directory, so change that to whenever you download it.).  Then execute the following to run mallet on the same data as above."
   ]
  },
  {
   "cell_type": "code",
   "execution_count": 15,
   "metadata": {},
   "outputs": [],
   "source": [
    "mallet_path=\"/Users/dbamman/Downloads/mallet-2.0.8/bin/mallet\""
   ]
  },
  {
   "cell_type": "code",
   "execution_count": 16,
   "metadata": {},
   "outputs": [],
   "source": [
    "ldamallet = gensim.models.wrappers.LdaMallet(mallet_path, corpus=corpus, num_topics=num_topics, id2word=dictionary)\n",
    "lda_mallet_model = gensim.models.wrappers.ldamallet.malletmodel2ldamodel(ldamallet)"
   ]
  },
  {
   "cell_type": "code",
   "execution_count": 17,
   "metadata": {},
   "outputs": [
    {
     "name": "stdout",
     "output_type": "stream",
     "text": [
      "water find island group boat crew ship lake river plane\n",
      "tells n't night asks day house takes sees leaves party\n",
      "kill men killed kills escape gang gun killing shoots escapes\n",
      "relationship life wife wedding married women husband woman marriage affair\n",
      "school friends mr. high parents party girls friend boys college\n",
      "police murder prison case drug death crime evidence detective arrest\n",
      "car police train truck station drive hotel find road driving\n",
      "film ends story movie scene time end final people world\n",
      "time tells finds book asks leaves story find day reveals\n",
      "house room body finds find door killed dead head window\n",
      "family father children brother town sister local brothers parents eventually\n",
      "agent president fbi secret agents smith security cia meeting states\n",
      "show club band dance music big stage perform york play\n",
      "war army orders general attack soldiers captain mission american men\n",
      "money job business company boss pay plan bank deal work\n",
      "mother father hospital child life daughter baby dr. boy years\n",
      "white death god appears blood church people body form spirit\n",
      "bond city find battle castle village lord fight named world\n",
      "team game fight win race play final ball wins match\n",
      "earth ship dr. alien machine escape world control planet human\n"
     ]
    }
   ],
   "source": [
    "for i in range(num_topics):\n",
    "    print(' '.join([term for term, freq in lda_mallet_model.show_topic(i, topn=10)]))"
   ]
  },
  {
   "cell_type": "code",
   "execution_count": null,
   "metadata": {},
   "outputs": [],
   "source": []
  }
 ],
 "metadata": {
  "kernelspec": {
   "display_name": "Python 3",
   "language": "python",
   "name": "python3"
  },
  "language_info": {
   "codemirror_mode": {
    "name": "ipython",
    "version": 3
   },
   "file_extension": ".py",
   "mimetype": "text/x-python",
   "name": "python",
   "nbconvert_exporter": "python",
   "pygments_lexer": "ipython3",
   "version": "3.8.5"
  }
 },
 "nbformat": 4,
 "nbformat_minor": 2
}
