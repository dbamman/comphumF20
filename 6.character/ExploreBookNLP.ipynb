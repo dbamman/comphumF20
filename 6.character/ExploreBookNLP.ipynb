{
 "cells": [
  {
   "cell_type": "markdown",
   "metadata": {},
   "source": [
    "This notebook explores the output of BookNLP to measure the differences in gender representation (both in terms of the number of major characters and in the actions that men and women carry out) in 94 Pulitzer prize nominees."
   ]
  },
  {
   "cell_type": "code",
   "execution_count": null,
   "metadata": {},
   "outputs": [],
   "source": [
    "import operator\n",
    "from collections import Counter\n",
    "import math\n",
    "from os import path\n",
    "import json"
   ]
  },
  {
   "cell_type": "code",
   "execution_count": null,
   "metadata": {},
   "outputs": [],
   "source": [
    "def read_metadata(filename):\n",
    "    metadata={}\n",
    "    with open(filename) as file:\n",
    "        for line in file:\n",
    "            cols=line.rstrip().split(\"\\t\")\n",
    "            idd=cols[0]\n",
    "            date=int(cols[1])\n",
    "            author=cols[2]\n",
    "            title=cols[3]\n",
    "            author_gender=cols[4]\n",
    "            metadata[idd]=(date, author, title, author_gender)\n",
    "    return metadata"
   ]
  },
  {
   "cell_type": "code",
   "execution_count": null,
   "metadata": {},
   "outputs": [],
   "source": [
    "metadata=read_metadata(\"../data/pulitzer_metadata.txt\")"
   ]
  },
  {
   "cell_type": "code",
   "execution_count": null,
   "metadata": {},
   "outputs": [],
   "source": [
    "def get_num_characters_by_gender(data, minimum_number_of_mentions=5):\n",
    "    \n",
    "    \"\"\" Get the total number of characters by gender who are mentioned by proper name \n",
    "    at least minimum_number_of_mentions times \"\"\"\n",
    "        \n",
    "    f=m=0\n",
    "    for character in data[\"characters\"]:\n",
    "        proper_name_count=character[\"NNPcount\"]\n",
    "        gender=character[\"g\"]\n",
    "        if proper_name_count >= minimum_number_of_mentions:\n",
    "            if gender == 1:\n",
    "                f+=1\n",
    "            elif gender == 2:\n",
    "                m+=2\n",
    "    return f, m"
   ]
  },
  {
   "cell_type": "code",
   "execution_count": null,
   "metadata": {},
   "outputs": [],
   "source": [
    "def get_gendered_actions(alldata, category):\n",
    "    \n",
    "    \"\"\" Get the counts of actions that men and women participate in within a novel, according to category.\n",
    "    category options are: agent, patient, mod, poss\"\"\"\n",
    "    \n",
    "    m_counts=Counter()\n",
    "    f_counts=Counter()\n",
    "    \n",
    "    for idd in alldata:\n",
    "        data=alldata[idd]\n",
    "        for character in data[\"characters\"]:\n",
    "            gender=character[\"g\"]\n",
    "            agent_terms=[term[\"w\"] for term in character[category]] \n",
    "\n",
    "            if gender > 0:\n",
    "                if gender == 1:\n",
    "                    counter=f_counts\n",
    "                elif gender == 2:\n",
    "                    counter=m_counts\n",
    "\n",
    "                for verb in agent_terms:\n",
    "                    counter[verb]+=1\n",
    "                    \n",
    "    return m_counts, f_counts"
   ]
  },
  {
   "cell_type": "code",
   "execution_count": null,
   "metadata": {},
   "outputs": [],
   "source": [
    "def get_top_characters_by_gender(data, n=5):\n",
    "    \n",
    "    \"\"\" Get the gender counts of the top n characters (by frequency) who are mentioned by proper name \"\"\"\n",
    "        \n",
    "    f=m=0\n",
    "    \n",
    "    character_counts={}\n",
    "    \n",
    "    for character in data[\"characters\"]:\n",
    "        proper_name_count=character[\"NNPcount\"]\n",
    "        gender=character[\"g\"]\n",
    "        if gender >= 1:\n",
    "            char_id=character[\"id\"]\n",
    "            character_counts[char_id]=proper_name_count, gender\n",
    "            \n",
    "    sorted_x = sorted(character_counts.items(), key=operator.itemgetter(1), reverse=True)\n",
    "    for k, v in sorted_x[:n]:\n",
    "        gender=v[1]\n",
    "        if gender == 1:\n",
    "            f+=1\n",
    "        elif gender == 2:\n",
    "            m+=1\n",
    "    return f, m"
   ]
  },
  {
   "cell_type": "code",
   "execution_count": null,
   "metadata": {},
   "outputs": [],
   "source": [
    "def calculate_differences(maleCounter, femaleCounter, display=25):\n",
    "    \n",
    "    \"\"\" Function that takes two Counter objects as inputs and prints out a ranked list of terms\n",
    "    more characteristic of the first counter than the second.  Here we'll use log-odds\n",
    "    with an uninformative prior (from Monroe et al 2008, \"Fightin Words\", eqn. 22) as our metric.\n",
    "    \n",
    "    \"\"\"\n",
    "    \n",
    "    vocab=dict(maleCounter) \n",
    "    vocab.update(dict(femaleCounter))\n",
    "    maleSum=sum(maleCounter.values())\n",
    "    femaleSum=sum(maleCounter.values())\n",
    "\n",
    "    ranks={}\n",
    "    alpha=0.01\n",
    "    alphaV=len(vocab)*alpha\n",
    "        \n",
    "    for word in vocab:\n",
    "        \n",
    "        log_odds_ratio=math.log( (maleCounter[word] + alpha) / (maleSum+alphaV-maleCounter[word]-alpha) ) - math.log( (femaleCounter[word] + alpha) / (femaleSum+alphaV-femaleCounter[word]-alpha) )\n",
    "        variance=1./(maleCounter[word] + alpha) + 1./(femaleCounter[word] + alpha)\n",
    "        \n",
    "        ranks[word]=log_odds_ratio/math.sqrt(variance)\n",
    "\n",
    "    sorted_x = sorted(ranks.items(), key=operator.itemgetter(1), reverse=True)\n",
    "    \n",
    "    print(\"Most male:\")\n",
    "    for k,v in sorted_x[:display]:\n",
    "        print(\"%.3f\\t%s\" % (v,k))\n",
    "    \n",
    "    print(\"\\nMost female:\")\n",
    "    for k,v in reversed(sorted_x[-display:]):\n",
    "        print(\"%.3f\\t%s\" % (v,k))"
   ]
  },
  {
   "cell_type": "code",
   "execution_count": null,
   "metadata": {},
   "outputs": [],
   "source": [
    "def read_data(data_folder):\n",
    "    data={}\n",
    "\n",
    "    for idd in metadata:\n",
    "        filename=path.join(data_folder, \"%s.book\" % idd)\n",
    "        if path.exists(filename):\n",
    "            with open(filename) as file:\n",
    "                data[idd]=json.load(file)\n",
    "\n",
    "    print(f\"Read {len(data)} books\")\n",
    "    return data"
   ]
  },
  {
   "cell_type": "code",
   "execution_count": null,
   "metadata": {},
   "outputs": [],
   "source": [
    "data=read_data(\"../data/pulitzer_booknlp\")"
   ]
  },
  {
   "cell_type": "markdown",
   "metadata": {},
   "source": [
    "Let's use that data to compare how many men and women characters (mentioned by name at least 10 times) there are in books written by men and women authors. "
   ]
  },
  {
   "cell_type": "code",
   "execution_count": null,
   "metadata": {},
   "outputs": [],
   "source": [
    "all_author_M=0.\n",
    "all_author_F=0.\n",
    "M_n=0\n",
    "F_n=0\n",
    "\n",
    "sorted_x = sorted(metadata.items(), key=operator.itemgetter(1), reverse=False)\n",
    "    \n",
    "for idd, (date, author, title, author_gender) in sorted_x:\n",
    "    f, m=get_num_characters_by_gender(data[idd], minimum_number_of_mentions=10)\n",
    "    if f+m > 0:\n",
    "        if author_gender == \"M\":\n",
    "            all_author_M+=float(f)/(f+m)\n",
    "            M_n+=1\n",
    "        else:\n",
    "            all_author_F+=float(f)/(f+m)\n",
    "            F_n+=1\n",
    "\n",
    "    print(f\"{f}\\t{m}\\t{author_gender}\\t{date}\\t{author}\\t{title}\")\n",
    "    \n",
    "print(f\"\\nRatio of major women characters by author gender:\\n\")\n",
    "print(f\"Books written by women: {100*all_author_F/F_n:.1f}% of characters are women (n={F_n})\")\n",
    "print(f\"Books written by men:   {100*all_author_M/M_n:.1f}% of characters are women (n={M_n})\")"
   ]
  },
  {
   "cell_type": "markdown",
   "metadata": {},
   "source": [
    "Now let's focus on just the major characters -- the top 5 characters mentioned by frequency. Is there a meaningful difference there in how men and women as authors have major characters who are women?"
   ]
  },
  {
   "cell_type": "code",
   "execution_count": null,
   "metadata": {},
   "outputs": [],
   "source": [
    "all_author_M=0.\n",
    "all_author_F=0.\n",
    "M_n=0\n",
    "F_n=0\n",
    "\n",
    "sorted_x = sorted(metadata.items(), key=operator.itemgetter(1), reverse=False)\n",
    "    \n",
    "for idd, (date, author, title, author_gender) in sorted_x:\n",
    "    f, m=get_top_characters_by_gender(data[idd], n=5)\n",
    "    if author_gender == \"M\":\n",
    "        all_author_M+=float(f)/(f+m)\n",
    "        M_n+=1\n",
    "    else:\n",
    "        all_author_F+=float(f)/(f+m)\n",
    "        F_n+=1\n",
    "\n",
    "    print(f\"{f}\\t{m}\\t{author_gender}\\t{date}\\t{author}\\t{title}\")\n",
    "    \n",
    "print(f\"\\nRatio of major women characters by author gender:\\n\")\n",
    "print(f\"Books written by women: {100*all_author_F/F_n:.1f}% of major characters are women (n={F_n})\")\n",
    "print(f\"Books written by men:   {100*all_author_M/M_n:.1f}% of major characters are women (n={M_n})\")"
   ]
  },
  {
   "cell_type": "markdown",
   "metadata": {},
   "source": [
    "Now let's see what men and women *do* as characters in these novels.  Explore this for other categories as well -- e.g., to see what men and women *possess*, switch \"agent\" with \"poss\"."
   ]
  },
  {
   "cell_type": "code",
   "execution_count": null,
   "metadata": {},
   "outputs": [],
   "source": [
    "m_counts, f_counts=get_gendered_actions(data, \"agent\")"
   ]
  },
  {
   "cell_type": "code",
   "execution_count": null,
   "metadata": {},
   "outputs": [],
   "source": [
    "calculate_differences(m_counts, f_counts, display=25)"
   ]
  },
  {
   "cell_type": "markdown",
   "metadata": {},
   "source": [
    "How would you break apart these characteristic actions by author gender?"
   ]
  },
  {
   "cell_type": "code",
   "execution_count": null,
   "metadata": {},
   "outputs": [],
   "source": []
  }
 ],
 "metadata": {
  "kernelspec": {
   "display_name": "Python [conda env:chF20] *",
   "language": "python",
   "name": "conda-env-chF20-py"
  },
  "language_info": {
   "codemirror_mode": {
    "name": "ipython",
    "version": 3
   },
   "file_extension": ".py",
   "mimetype": "text/x-python",
   "name": "python",
   "nbconvert_exporter": "python",
   "pygments_lexer": "ipython3",
   "version": "3.8.5"
  }
 },
 "nbformat": 4,
 "nbformat_minor": 4
}
