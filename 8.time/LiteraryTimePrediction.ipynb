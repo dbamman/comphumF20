{
 "cells": [
  {
   "cell_type": "markdown",
   "metadata": {},
   "source": [
    "In this notebook, we'll build a predictive model for measuring the passage of narrative time using data from Underwood (2018), \"Why Literary Time is Measured in Minutes\", which annotates how many minutes have passed in a 250-word chunk of text.  We'll compare the accuracy of regularized linear regression model with a baseline that assigns the *average* time in the training data to all test passages (think of this as an analogue to a majority class baseline for real-valued predictions)."
   ]
  },
  {
   "cell_type": "code",
   "execution_count": 1,
   "metadata": {},
   "outputs": [],
   "source": [
    "from math import log, exp\n",
    "from sklearn.model_selection import GroupKFold\n",
    "import numpy as np\n",
    "from collections import Counter\n",
    "from sklearn import linear_model\n",
    "from scipy import sparse\n",
    "from sklearn.metrics import mean_squared_error, mean_absolute_error\n",
    "import operator\n",
    "import nltk"
   ]
  },
  {
   "cell_type": "code",
   "execution_count": 2,
   "metadata": {},
   "outputs": [],
   "source": [
    "def read_data(filename):\n",
    "    X=[]\n",
    "    Y=[]\n",
    "    groups=[]\n",
    "    with open(filename) as file:\n",
    "        for line in file:\n",
    "            cols=line.split(\"\\t\")\n",
    "            book_id=cols[0]\n",
    "            time=float(cols[2])\n",
    "            text=cols[6].rstrip()\n",
    "            if len(text) > 0 and time > 0 and time < 1000000:\n",
    "                tokens=nltk.word_tokenize(text.lower())\n",
    "                X.append(tokens)\n",
    "                Y.append(log(time))\n",
    "                groups.append(book_id)\n",
    "            \n",
    "    return np.array(X), np.array(Y), groups"
   ]
  },
  {
   "cell_type": "code",
   "execution_count": 3,
   "metadata": {},
   "outputs": [
    {
     "name": "stderr",
     "output_type": "stream",
     "text": [
      "<ipython-input-2-1bc6bdda6063>:17: VisibleDeprecationWarning: Creating an ndarray from ragged nested sequences (which is a list-or-tuple of lists-or-tuples-or ndarrays with different lengths or shapes) is deprecated. If you meant to do this, you must specify 'dtype=object' when creating the ndarray\n",
      "  return np.array(X), np.array(Y), groups\n"
     ]
    }
   ],
   "source": [
    "X, Y, groups=read_data(\"../data/literary_time_data.txt\")"
   ]
  },
  {
   "cell_type": "code",
   "execution_count": 4,
   "metadata": {},
   "outputs": [],
   "source": [
    "def build_features(dataX, feature_functions):\n",
    "    \n",
    "    \"\"\" This function featurizes the data according to the list of parameter feature_functions \"\"\"\n",
    "    \n",
    "    data=[]\n",
    "    for tokens in dataX:\n",
    "        feats={}\n",
    "        \n",
    "        for function in feature_functions:\n",
    "            feats.update(function(tokens))\n",
    "\n",
    "        data.append(feats)\n",
    "    return data"
   ]
  },
  {
   "cell_type": "code",
   "execution_count": 5,
   "metadata": {},
   "outputs": [],
   "source": [
    "def features_to_ids(data, feature_vocab):\n",
    "    \n",
    "    \"\"\" \n",
    "    \n",
    "    This helper function converts a dictionary of feature names to a sparse representation\n",
    " that we can fit in a scikit-learn model.  This is important because almost all feature \n",
    " values will be 0 for most documents (note: why?), and we don't want to save them all in \n",
    " memory.\n",
    "\n",
    "    \"\"\"\n",
    "    new_data=sparse.lil_matrix((len(data), len(feature_vocab)))\n",
    "    for idx,doc in enumerate(data):\n",
    "        for f in doc:\n",
    "            if f in feature_vocab:\n",
    "                new_data[idx,feature_vocab[f]]=doc[f]\n",
    "    return new_data"
   ]
  },
  {
   "cell_type": "code",
   "execution_count": 6,
   "metadata": {},
   "outputs": [],
   "source": [
    "def create_vocab(data, top_n=None):\n",
    "    \n",
    "    \"\"\" \n",
    "    \n",
    "    This helper function converts a dictionary of feature names to unique numerical ids. \n",
    "    top_n limits the features to only the n most frequent features observed in the training data \n",
    "    (in terms of the number of documents that contains it).\n",
    "    \n",
    "    \"\"\"\n",
    "    \n",
    "    counts=Counter()\n",
    "    for doc in data:\n",
    "        for feat in doc:\n",
    "            counts[feat]+=1\n",
    "\n",
    "    feature_vocab={}\n",
    "\n",
    "    for idx, (k, v) in enumerate(counts.most_common(top_n)):\n",
    "        feature_vocab[k]=idx\n",
    "                \n",
    "    return feature_vocab"
   ]
  },
  {
   "cell_type": "code",
   "execution_count": 7,
   "metadata": {},
   "outputs": [],
   "source": [
    "def pipeline(trainX, devX, trainY, devY, feature_functions):\n",
    "\n",
    "    \"\"\" This function evaluates a list of feature functions on the training/dev data arguments \"\"\"\n",
    "    \n",
    "    trainX_feat=build_features(trainX, feature_functions)\n",
    "    devX_feat=build_features(devX, feature_functions)\n",
    "\n",
    "    # just create vocabulary from features in *training* data.\n",
    "    feature_vocab=create_vocab(trainX_feat, top_n=100000)\n",
    "\n",
    "    trainX_ids=features_to_ids(trainX_feat, feature_vocab)\n",
    "    devX_ids=features_to_ids(devX_feat, feature_vocab)\n",
    "    \n",
    "    clf = linear_model.Ridge(alpha=1)\n",
    "    clf.fit(trainX_ids, trainY)\n",
    "    \n",
    "    predictions=clf.predict(devX_ids)\n",
    "    \n",
    "    return clf, predictions, feature_vocab"
   ]
  },
  {
   "cell_type": "code",
   "execution_count": 8,
   "metadata": {},
   "outputs": [],
   "source": [
    "def unigram_feature(tokens):\n",
    "    feats={}\n",
    "    for word in tokens:\n",
    "        feats[\"UNIGRAM_%s\" % word]=1\n",
    "    return feats"
   ]
  },
  {
   "cell_type": "code",
   "execution_count": 9,
   "metadata": {},
   "outputs": [
    {
     "name": "stdout",
     "output_type": "stream",
     "text": [
      "Lower numbers are better:\n",
      "\n",
      "===Mean squared error===\n",
      "\n",
      "Baseline MSE (log minutes): 14.1\n",
      "Ridge MSE (log minutes): 12.2\n",
      "\n",
      "Baseline MSE (minutes): 5547264622.6\n",
      "Ridge MSE (minutes): 5584585933.8\n",
      "\n",
      "===Mean absolute error===\n",
      "\n",
      "Baseline MAE (log minutes): 3.2\n",
      "Ridge MAE (log minutes): 2.7\n",
      "\n",
      "Baseline MAE (minutes): 15740.9\n",
      "Ridge MAE (minutes): 16132.7\n"
     ]
    }
   ],
   "source": [
    "features=[unigram_feature]\n",
    "\n",
    "kf = GroupKFold(n_splits=10)\n",
    "preds=[]\n",
    "golds=[]\n",
    "baselines=[]\n",
    "\n",
    "for train_index, test_index in kf.split(X, Y, groups):\n",
    "    X_train, X_test = X[train_index], X[test_index]\n",
    "    y_train, y_test = Y[train_index], Y[test_index]\n",
    "    clf, predictions, vocab=pipeline(X_train, X_test, y_train, y_test, features)\n",
    "    preds.extend(predictions)\n",
    "    golds.extend(y_test)\n",
    "    average_in_training=np.mean(y_train)\n",
    "    baselines.extend([average_in_training]*len(y_test))\n",
    "        \n",
    "\n",
    "expgolds=np.exp(golds)\n",
    "exppreds=np.exp(preds)\n",
    "expbaselines=np.exp(baselines)\n",
    "\n",
    "print (\"Lower numbers are better:\\n\")\n",
    "\n",
    "print (\"===Mean squared error===\\n\")\n",
    "\n",
    "print(f\"Baseline MSE (log minutes): {mean_squared_error(golds, baselines):.1f}\") \n",
    "print(f\"Ridge MSE (log minutes): {mean_squared_error(golds, preds):.1f}\")\n",
    "\n",
    "print()\n",
    "\n",
    "print(f\"Baseline MSE (minutes): {mean_squared_error(expgolds, expbaselines):.1f}\")\n",
    "print(f\"Ridge MSE (minutes): {mean_squared_error(expgolds, exppreds):.1f}\")\n",
    "\n",
    "print (\"\\n===Mean absolute error===\\n\")\n",
    "\n",
    "print(f\"Baseline MAE (log minutes): {mean_absolute_error(golds, baselines):.1f}\")\n",
    "print(f\"Ridge MAE (log minutes): {mean_absolute_error(golds, preds):.1f}\")\n",
    "\n",
    "print()\n",
    "print(f\"Baseline MAE (minutes): {mean_absolute_error(expgolds, expbaselines):.1f}\")  \n",
    "print(f\"Ridge MAE (minutes): {mean_absolute_error(expgolds, exppreds):.1f}\")\n",
    "\n",
    "\n"
   ]
  },
  {
   "cell_type": "markdown",
   "metadata": {},
   "source": [
    "What are the features that are predictive of the fast (and slow) passage of time?  Looking at these features, what aspects of the text do you think this model is latching onto in predicting time?"
   ]
  },
  {
   "cell_type": "code",
   "execution_count": 11,
   "metadata": {},
   "outputs": [],
   "source": [
    "def print_weights(clf, vocab, n=10):\n",
    "    weights=clf.coef_\n",
    "    reverse_vocab=[None]*len(weights)\n",
    "    for k in vocab:\n",
    "        reverse_vocab[vocab[k]]=k\n",
    "\n",
    "    for feature, weight in list(reversed(sorted(zip(reverse_vocab, weights), key = operator.itemgetter(1))))[:n]:\n",
    "        print(\"%.3f\\t%s\" % (weight, feature))\n",
    "\n",
    "    print()\n",
    "\n",
    "    for feature, weight in sorted(zip(reverse_vocab, weights), key = operator.itemgetter(1))[:n]:\n",
    "        print(\"%.3f\\t%s\" % (weight, feature))"
   ]
  },
  {
   "cell_type": "code",
   "execution_count": 12,
   "metadata": {},
   "outputs": [
    {
     "name": "stdout",
     "output_type": "stream",
     "text": [
      "0.890\tUNIGRAM_day\n",
      "0.745\tUNIGRAM_appear\n",
      "0.697\tUNIGRAM_return\n",
      "0.591\tUNIGRAM_agreed\n",
      "0.532\tUNIGRAM_aunt\n",
      "0.527\tUNIGRAM_story\n",
      "0.523\tUNIGRAM_days\n",
      "0.513\tUNIGRAM_suffered\n",
      "0.501\tUNIGRAM_joy\n",
      "0.476\tUNIGRAM_expected\n",
      "\n",
      "-0.573\tUNIGRAM_''\n",
      "-0.557\tUNIGRAM_replied\n",
      "-0.523\tUNIGRAM_speaking\n",
      "-0.503\tUNIGRAM_known\n",
      "-0.496\tUNIGRAM_wish\n",
      "-0.451\tUNIGRAM_voice\n",
      "-0.438\tUNIGRAM_said\n",
      "-0.434\tUNIGRAM_given\n",
      "-0.434\tUNIGRAM_dozen\n",
      "-0.426\tUNIGRAM_standing\n"
     ]
    }
   ],
   "source": [
    "print_weights(clf, vocab)"
   ]
  },
  {
   "cell_type": "markdown",
   "metadata": {},
   "source": [
    "Now let's make some predictions for new ~250-word passages."
   ]
  },
  {
   "cell_type": "code",
   "execution_count": 13,
   "metadata": {},
   "outputs": [],
   "source": [
    "def predict(text, feature_vocab):\n",
    "    tokens=nltk.word_tokenize(text)\n",
    "    feats=build_features([tokens], [unigram_feature])\n",
    "    devX_ids=features_to_ids(feats, feature_vocab)\n",
    "    prediction=clf.predict(devX_ids)\n",
    "    return exp(prediction)"
   ]
  },
  {
   "cell_type": "markdown",
   "metadata": {},
   "source": [
    "“I know you heard all this before, Franklin, but it didn’t take, obviously. Maybe this time it will. Right now, all of you are Grubs. We have four ranks of behavior here—start as a Grub, work your way up to Explorer, then Pioneer, and finally, Ace. Earn merits for acting right, and you move on up the ladder. You work on achieving the highest rank of Ace and then you graduate and go home to your families.” He paused. “If they’ll have you, but that’s between y’all.” An Ace, he said, listens to the housemen and his house father, does his work without shirking and malingering, and applies himself to his studies. An Ace does not rough-house, he does not cuss, he does not blaspheme or carry on. He works to reform himself, from sunrise to sunset. “It’s up to you how much time you spend with us,” Spencer said. “We don’t mess around with idiots here. If you mess up, we have a place for you, and you will not like it. I’ll see to it personally.”   Spencer had a severe face, but when he touched the enormous key ring on his belt the corners of his mouth twitched in pleasure, it seemed, or to signal a murkier emotion. The supervisor turned to Franklin, the boy who’d come back for a second taste of Nickel. “Tell them, Franklin.”   Franklin’s voice cracked and he had to fix himself before he got out, “Yes, sir. You don’t want to step over the line in here.”\n",
    "\n",
    "(Colson Whitehead, *The Nickel Boys*)"
   ]
  },
  {
   "cell_type": "code",
   "execution_count": 14,
   "metadata": {},
   "outputs": [
    {
     "name": "stdout",
     "output_type": "stream",
     "text": [
      "1.2 minutes\n"
     ]
    }
   ],
   "source": [
    "text=\"“I know you heard all this before, Franklin, but it didn’t take, obviously. Maybe this time it will. Right now, all of you are Grubs. We have four ranks of behavior here—start as a Grub, work your way up to Explorer, then Pioneer, and finally, Ace. Earn merits for acting right, and you move on up the ladder. You work on achieving the highest rank of Ace and then you graduate and go home to your families.” He paused. “If they’ll have you, but that’s between y’all.” An Ace, he said, listens to the housemen and his house father, does his work without shirking and malingering, and applies himself to his studies. An Ace does not rough-house, he does not cuss, he does not blaspheme or carry on. He works to reform himself, from sunrise to sunset. “It’s up to you how much time you spend with us,” Spencer said. “We don’t mess around with idiots here. If you mess up, we have a place for you, and you will not like it. I’ll see to it personally.”   Spencer had a severe face, but when he touched the enormous key ring on his belt the corners of his mouth twitched in pleasure, it seemed, or to signal a murkier emotion. The supervisor turned to Franklin, the boy who’d come back for a second taste of Nickel. “Tell them, Franklin.”   Franklin’s voice cracked and he had to fix himself before he got out, “Yes, sir. You don’t want to step over the line in here.”\"\n",
    "print(f\"{predict(text, vocab):.1f} minutes\")\n"
   ]
  },
  {
   "cell_type": "markdown",
   "metadata": {},
   "source": [
    "“Shhh!” hissed Professor McGonagall, “you’ll wake the Muggles!”  “S-s-sorry,” sobbed Hagrid, taking out a large, spotted handkerchief and burying his face in it. “But I c-c-can’t stand it — Lily an’ James dead — an’ poor little Harry off ter live with Muggles —”    “Yes, yes, it’s all very sad, but get a grip on yourself, Hagrid, or we’ll be found,” Professor McGonagall whispered, patting Hagrid gingerly on the arm as Dumbledore stepped over the low garden wall and walked to the front door. He laid Harry gently on the doorstep, took a letter out of his cloak, tucked it inside Harry’s blankets, and then came back to the other two. For a full minute the three of them stood and looked at the little bundle; Hagrid’s shoulders shook, Professor McGonagall blinked furiously, and the twinkling light that usually shone from Dumbledore’s eyes seemed to have gone out. “Well,” said Dumbledore finally, “that’s that. We’ve no business staying here. We may as well go and join the celebrations.”   “Yeah,” said Hagrid in a very muffled voice, “I’ll be takin’ Sirius his bike back. G’night, Professor McGonagall — Professor Dumbledore, sir.” Wiping his streaming eyes on his jacket sleeve, Hagrid swung himself onto the motorcycle and kicked the engine into life; with a roar it rose into the air and off into the night.  “I shall see you soon, I expect, Professor McGonagall,” said Dumbledore, nodding to her. Professor McGonagall blew her nose in reply.\n",
    "\n",
    "(J.K. Rowling, *Harry Potter and the Sorcerer's Stone*)"
   ]
  },
  {
   "cell_type": "code",
   "execution_count": 15,
   "metadata": {},
   "outputs": [
    {
     "name": "stdout",
     "output_type": "stream",
     "text": [
      "5.6 minutes\n"
     ]
    }
   ],
   "source": [
    "text=\"“Shhh!” hissed Professor McGonagall, “you’ll wake the Muggles!”  “S-s-sorry,” sobbed Hagrid, taking out a large, spotted handkerchief and burying his face in it. “But I c-c-can’t stand it — Lily an’ James dead — an’ poor little Harry off ter live with Muggles —”    “Yes, yes, it’s all very sad, but get a grip on yourself, Hagrid, or we’ll be found,” Professor McGonagall whispered, patting Hagrid gingerly on the arm as Dumbledore stepped over the low garden wall and walked to the front door. He laid Harry gently on the doorstep, took a letter out of his cloak, tucked it inside Harry’s blankets, and then came back to the other two. For a full minute the three of them stood and looked at the little bundle; Hagrid’s shoulders shook, Professor McGonagall blinked furiously, and the twinkling light that usually shone from Dumbledore’s eyes seemed to have gone out. “Well,” said Dumbledore finally, “that’s that. We’ve no business staying here. We may as well go and join the celebrations.”   “Yeah,” said Hagrid in a very muffled voice, “I’ll be takin’ Sirius his bike back. G’night, Professor McGonagall — Professor Dumbledore, sir.” Wiping his streaming eyes on his jacket sleeve, Hagrid swung himself onto the motorcycle and kicked the engine into life; with a roar it rose into the air and off into the night.  “I shall see you soon, I expect, Professor McGonagall,” said Dumbledore, nodding to her. Professor McGonagall blew her nose in reply.\"\n",
    "print(f\"{predict(text, vocab):.1f} minutes\")"
   ]
  },
  {
   "cell_type": "markdown",
   "metadata": {},
   "source": [
    "The station wagons arrived at noon, a long shining line that coursed through the west campus. In single file they eased around the orange I-beam sculpture and moved toward the dormitories. The roofs of the station wagons were loaded down with carefully secured suitcases full of light and heavy clothing; with boxes of blankets, boots and shoes, stationery and books, sheets, pillows, quilts; with rolled-up rugs and sleeping bags; with bicycles, skis, rucksacks, English and Western saddles, inflated rafts. As cars slowed to a crawl and stopped, students sprang out and raced to the rear doors to begin removing the objects inside; the stereo sets, radios, personal computers; small refrigerators and table ranges; the cartons of phonograph records and cassettes; the hairdryers and styling irons; the tennis rackets, soccer balls, hockey and lacrosse sticks, bows and arrows; the controlled substances, the birth control pills and devices; the junk food still in shopping bags—onion-and-garlic chips, nacho thins, peanut creme patties, Waffelos and Kabooms, fruit chews and toffee popcorn; the Dum-Dum pops, the Mystic mints.\n",
    "\n",
    "(Don DeLillo, *White Noise*)"
   ]
  },
  {
   "cell_type": "code",
   "execution_count": 16,
   "metadata": {},
   "outputs": [
    {
     "name": "stdout",
     "output_type": "stream",
     "text": [
      "39.9 minutes\n"
     ]
    }
   ],
   "source": [
    "text=\"The station wagons arrived at noon, a long shining line that coursed through the west campus. In single file they eased around the orange I-beam sculpture and moved toward the dormitories. The roofs of the station wagons were loaded down with carefully secured suitcases full of light and heavy clothing; with boxes of blankets, boots and shoes, stationery and books, sheets, pillows, quilts; with rolled-up rugs and sleeping bags; with bicycles, skis, rucksacks, English and Western saddles, inflated rafts. As cars slowed to a crawl and stopped, students sprang out and raced to the rear doors to begin removing the objects inside; the stereo sets, radios, personal computers; small refrigerators and table ranges; the cartons of phonograph records and cassettes; the hairdryers and styling irons; the tennis rackets, soccer balls, hockey and lacrosse sticks, bows and arrows; the controlled substances, the birth control pills and devices; the junk food still in shopping bags—onion-and-garlic chips, nacho thins, peanut creme patties, Waffelos and Kabooms, fruit chews and toffee popcorn; the Dum-Dum pops, the Mystic mints.\"\n",
    "print(f\"{predict(text, vocab):.1f} minutes\")"
   ]
  },
  {
   "cell_type": "markdown",
   "metadata": {},
   "source": [
    "   But the ring was not on the island; he had lost it, it was gone. His screech sent a shiver down Bilbo’s back, though he did not yet understand what had happened. But Gollum had at last leaped to a guess, too late. What has it got in its pocketses? he cried. The light in his eyes was like a green flame as he sped back to murder the hobbit and recover his ‘Precious’. Just in time Bilbo saw his peril, and he fled blindly up the passage away from the water; and once more he was saved by his luck. For as he ran he put his hand in his pocket, and the ring slipped quietly on to his finger. So it was that Gollum passed him without seeing him, and went to guard the way out, lest the ‘thief’ should escape. Warily Bilbo followed him, as he went along, cursing, and talking to himself about his ‘Precious’; from which talk at last even Bilbo guessed the truth, and hope came to him in the darkness: he himself had found the marvellous ring and a chance of escape from the ores and from Gollum. At length they came to a halt before an unseen opening that led to the lower gates of the mines, on the eastward side of the mountains. There Gollum crouched at bay, smelling and listening; and Bilbo was tempted to slay him with his sword. But pity stayed him, and though he kept the ring, in which his only hope lay, he would not use it to help him kill the wretched creature at a disadvantage. In the end, gathering his courage, he leaped over Gollum in the dark, and fled away down the passage, pursued by his enemy’s cries of hate and despair: Thief, thief! Baggins! We hates it for ever!\n",
    "   \n",
    "(J.R.R. Tolkien, *Lord of the Rings*)\n"
   ]
  },
  {
   "cell_type": "code",
   "execution_count": 17,
   "metadata": {},
   "outputs": [
    {
     "name": "stdout",
     "output_type": "stream",
     "text": [
      "160.4 minutes\n"
     ]
    }
   ],
   "source": [
    "text=\"But the ring was not on the island; he had lost it, it was gone. His screech sent a shiver down Bilbo’s back, though he did not yet understand what had happened. But Gollum had at last leaped to a guess, too late. What has it got in its pocketses? he cried. The light in his eyes was like a green flame as he sped back to murder the hobbit and recover his ‘Precious’. Just in time Bilbo saw his peril, and he fled blindly up the passage away from the water; and once more he was saved by his luck. For as he ran he put his hand in his pocket, and the ring slipped quietly on to his finger. So it was that Gollum passed him without seeing him, and went to guard the way out, lest the ‘thief’ should escape. Warily Bilbo followed him, as he went along, cursing, and talking to himself about his ‘Precious’; from which talk at last even Bilbo guessed the truth, and hope came to him in the darkness: he himself had found the marvellous ring and a chance of escape from the ores and from Gollum. At length they came to a halt before an unseen opening that led to the lower gates of the mines, on the eastward side of the mountains. There Gollum crouched at bay, smelling and listening; and Bilbo was tempted to slay him with his sword. But pity stayed him, and though he kept the ring, in which his only hope lay, he would not use it to help him kill the wretched creature at a disadvantage. In the end, gathering his courage, he leaped over Gollum in the dark, and fled away down the passage, pursued by his enemy’s cries of hate and despair: Thief, thief! Baggins! We hates it for ever!\"\n",
    "print(f\"{predict(text, vocab):.1f} minutes\")"
   ]
  },
  {
   "cell_type": "markdown",
   "metadata": {},
   "source": [
    "A onelegged sailor, swinging himself onward by lazy jerks of his crutches, growled some notes. He jerked short before the convent of the sisters of charity and held out a peaked cap for alms towards the very reverend John Conmee S. J. Father Conmee blessed him in the sun for his purse held, he knew, one silver crown. Father Conmee crossed to Mountjoy square. He thought, but not for long, of soldiers and sailors, whose legs had been shot off by cannonballs, ending their days in some pauper ward, and of cardinal Wolsey's words: If I had served my God as I have served my king He would not have abandoned me in my old days. He walked by the treeshade of sunnywinking leaves: and towards him came the wife of Mr David Sheehy M.P. Very well, indeed, father. And you, father? Father Conmee was wonderfully well indeed. He would go to Buxton probably for the waters. And her boys, were they getting on well at Belvedere? Was that so? Father Conmee was very glad indeed to hear that. And Mr Sheehy himself? Still in London. The house was still sitting, to be sure it was. Beautiful weather it was, delightful indeed. Yes, it was very probable that Father Bernard Vaughan would come again to preach. O, yes: a very great success. A wonderful man really.\n",
    "\n",
    "(Joyce, *Ulysses*)"
   ]
  },
  {
   "cell_type": "code",
   "execution_count": 18,
   "metadata": {},
   "outputs": [
    {
     "name": "stdout",
     "output_type": "stream",
     "text": [
      "148.7 minutes\n"
     ]
    }
   ],
   "source": [
    "text=\"A onelegged sailor, swinging himself onward by lazy jerks of his crutches, growled some notes. He jerked short before the convent of the sisters of charity and held out a peaked cap for alms towards the very reverend John Conmee S. J. Father Conmee blessed him in the sun for his purse held, he knew, one silver crown. Father Conmee crossed to Mountjoy square. He thought, but not for long, of soldiers and sailors, whose legs had been shot off by cannonballs, ending their days in some pauper ward, and of cardinal Wolsey's words: If I had served my God as I have served my king He would not have abandoned me in my old days. He walked by the treeshade of sunnywinking leaves: and towards him came the wife of Mr David Sheehy M.P. Very well, indeed, father. And you, father? Father Conmee was wonderfully well indeed. He would go to Buxton probably for the waters. And her boys, were they getting on well at Belvedere? Was that so? Father Conmee was very glad indeed to hear that. And Mr Sheehy himself? Still in London. The house was still sitting, to be sure it was. Beautiful weather it was, delightful indeed. Yes, it was very probable that Father Bernard Vaughan would come again to preach. O, yes: a very great success. A wonderful man really.\"\n",
    "print(f\"{predict(text, vocab):.1f} minutes\")"
   ]
  },
  {
   "cell_type": "markdown",
   "metadata": {},
   "source": [
    "**Question for discussion**. While the predictions here vary in their accuracy, we can see from the empirical results that there is plenty of room for improvement.  Brainstorm some ideas for how you could improve the computational modeling of time -- including new features you would use, other data collection strategies, or reframing the problem into one that you see as more tractable."
   ]
  },
  {
   "cell_type": "code",
   "execution_count": null,
   "metadata": {},
   "outputs": [],
   "source": []
  }
 ],
 "metadata": {
  "kernelspec": {
   "display_name": "Python 3",
   "language": "python",
   "name": "python3"
  },
  "language_info": {
   "codemirror_mode": {
    "name": "ipython",
    "version": 3
   },
   "file_extension": ".py",
   "mimetype": "text/x-python",
   "name": "python",
   "nbconvert_exporter": "python",
   "pygments_lexer": "ipython3",
   "version": "3.8.5"
  }
 },
 "nbformat": 4,
 "nbformat_minor": 4
}
